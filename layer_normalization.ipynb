{
 "cells": [
  {
   "cell_type": "code",
   "execution_count": 1,
   "metadata": {},
   "outputs": [],
   "source": [
    "import torch \n",
    "import torch.nn as nn\n"
   ]
  },
  {
   "cell_type": "code",
   "execution_count": 7,
   "metadata": {},
   "outputs": [
    {
     "data": {
      "text/plain": [
       "torch.Size([2, 1, 3])"
      ]
     },
     "execution_count": 7,
     "metadata": {},
     "output_type": "execute_result"
    }
   ],
   "source": [
    "inputs = torch.Tensor([[[0.2, 0.1, 0.3], [0.5, 0.1, 0.1]]])\n",
    "B,S,E = inputs.size()\n",
    "inputs = inputs.reshape(S,B,E)\n",
    "inputs.size()"
   ]
  },
  {
   "cell_type": "code",
   "execution_count": 9,
   "metadata": {},
   "outputs": [],
   "source": [
    "paramater_shape = inputs.size()[-2:]\n",
    "gamma = nn.Parameter(torch.ones(paramater_shape))\n",
    "beta = nn.Parameter(torch.zeros(paramater_shape))"
   ]
  },
  {
   "cell_type": "code",
   "execution_count": 10,
   "metadata": {},
   "outputs": [
    {
     "data": {
      "text/plain": [
       "(torch.Size([1, 3]), torch.Size([1, 3]))"
      ]
     },
     "execution_count": 10,
     "metadata": {},
     "output_type": "execute_result"
    }
   ],
   "source": [
    "gamma.size(), beta.size()"
   ]
  },
  {
   "cell_type": "code",
   "execution_count": 11,
   "metadata": {},
   "outputs": [
    {
     "data": {
      "text/plain": [
       "[-1, -2]"
      ]
     },
     "execution_count": 11,
     "metadata": {},
     "output_type": "execute_result"
    }
   ],
   "source": [
    "dims = [-(i+1) for i in range(len(paramater_shape))]\n",
    "dims "
   ]
  },
  {
   "cell_type": "code",
   "execution_count": 13,
   "metadata": {},
   "outputs": [
    {
     "data": {
      "text/plain": [
       "torch.Size([2, 1, 1])"
      ]
     },
     "execution_count": 13,
     "metadata": {},
     "output_type": "execute_result"
    }
   ],
   "source": [
    "mean = inputs.mean(dim=dims, keepdim=True)\n",
    "mean.size()"
   ]
  },
  {
   "cell_type": "code",
   "execution_count": 14,
   "metadata": {},
   "outputs": [
    {
     "data": {
      "text/plain": [
       "tensor([[[0.2000]],\n",
       "\n",
       "        [[0.2333]]])"
      ]
     },
     "execution_count": 14,
     "metadata": {},
     "output_type": "execute_result"
    }
   ],
   "source": [
    "mean"
   ]
  },
  {
   "cell_type": "code",
   "execution_count": 16,
   "metadata": {},
   "outputs": [
    {
     "data": {
      "text/plain": [
       "tensor([[[0.0817]],\n",
       "\n",
       "        [[0.1886]]])"
      ]
     },
     "execution_count": 16,
     "metadata": {},
     "output_type": "execute_result"
    }
   ],
   "source": [
    "var = ((inputs-mean)**2).mean(dim=dims, keepdim=True)\n",
    "epsilon = 1e-5\n",
    "std = (var + epsilon).sqrt()\n",
    "std"
   ]
  },
  {
   "cell_type": "code",
   "execution_count": 18,
   "metadata": {},
   "outputs": [
    {
     "data": {
      "text/plain": [
       "tensor([[[ 0.0000, -1.2238,  1.2238]],\n",
       "\n",
       "        [[ 1.4140, -0.7070, -0.7070]]])"
      ]
     },
     "execution_count": 18,
     "metadata": {},
     "output_type": "execute_result"
    }
   ],
   "source": [
    "y = (inputs- mean) / std\n",
    "y"
   ]
  },
  {
   "cell_type": "code",
   "execution_count": 19,
   "metadata": {},
   "outputs": [],
   "source": [
    "out = gamma*y + beta"
   ]
  },
  {
   "cell_type": "code",
   "execution_count": 20,
   "metadata": {},
   "outputs": [
    {
     "data": {
      "text/plain": [
       "tensor([[[ 0.0000, -1.2238,  1.2238]],\n",
       "\n",
       "        [[ 1.4140, -0.7070, -0.7070]]], grad_fn=<AddBackward0>)"
      ]
     },
     "execution_count": 20,
     "metadata": {},
     "output_type": "execute_result"
    }
   ],
   "source": [
    "out"
   ]
  },
  {
   "attachments": {},
   "cell_type": "markdown",
   "metadata": {},
   "source": [
    "All in one"
   ]
  },
  {
   "cell_type": "code",
   "execution_count": 22,
   "metadata": {},
   "outputs": [],
   "source": [
    "import torch\n",
    "import torch.nn\n",
    "\n",
    "\n",
    "class LayerNormalization():\n",
    "    def __init__(self,paramater_shape,eps=1e-5):\n",
    "        self.paramater_shape = paramater_shape\n",
    "        self.eps = eps\n",
    "        self.gamma = nn.Parameter(torch.ones(self.paramater_shape))\n",
    "        self.beta = nn.Parameter(torch.zeros(self.paramater_shape))\n",
    "\n",
    "    def forward(self, input):\n",
    "        dims = [-(i+1) for i in range(len(self.paramater_shape))]\n",
    "        mean = inputs.mean(dim=dims, keepdim=True)\n",
    "        var = ((inputs-mean)**2).mean(dim=dims, keepdim=True)\n",
    "        std = (var + self.eps).sqrt()\n",
    "        y = (inputs- mean) / std\n",
    "        out = self.gamma * y + self.beta\n",
    "        return out\n",
    "        \n"
   ]
  },
  {
   "cell_type": "code",
   "execution_count": 23,
   "metadata": {},
   "outputs": [],
   "source": [
    "batch_size = 3\n",
    "sentence_length = 5\n",
    "embeding_dim = 8\n",
    "inputs = torch.randn(sentence_length,batch_size,embeding_dim )"
   ]
  },
  {
   "cell_type": "code",
   "execution_count": 26,
   "metadata": {},
   "outputs": [
    {
     "data": {
      "text/plain": [
       "<__main__.LayerNormalization at 0x127f768e0>"
      ]
     },
     "execution_count": 26,
     "metadata": {},
     "output_type": "execute_result"
    }
   ],
   "source": [
    "layer_norm = LayerNormalization(inputs.size()[-2:])\n",
    "layer_norm\n"
   ]
  },
  {
   "cell_type": "code",
   "execution_count": 27,
   "metadata": {},
   "outputs": [
    {
     "data": {
      "text/plain": [
       "tensor([[[-0.0947,  1.7079, -0.2363,  0.7305,  0.1923, -0.9733,  0.2513,\n",
       "           1.2618],\n",
       "         [-2.0164, -0.9688, -0.8756,  0.3777,  1.2298,  0.3281, -1.8530,\n",
       "          -0.4741],\n",
       "         [ 0.5918, -1.5766,  1.1257, -0.0783,  0.0078,  1.2750, -0.6430,\n",
       "           0.7102]],\n",
       "\n",
       "        [[-2.1341, -0.0640, -0.0089,  2.0548, -1.1545,  0.4335, -0.9735,\n",
       "           1.1495],\n",
       "         [-1.2128,  0.0338,  0.0108, -0.9864,  0.4896,  0.3573,  2.0161,\n",
       "          -0.2711],\n",
       "         [-0.1313,  1.1666,  1.2473, -1.0486, -0.3716, -0.4773, -0.2515,\n",
       "           0.1266]],\n",
       "\n",
       "        [[-0.4260,  0.7262,  0.2152, -0.8853, -1.0732,  1.0433,  1.0721,\n",
       "          -1.6118],\n",
       "         [ 0.1746,  0.9773, -0.5086,  1.8274, -2.2110, -0.2582,  0.9993,\n",
       "          -0.9094],\n",
       "         [ 0.7946, -0.5698, -0.3567,  1.6843, -0.1202, -0.4495, -0.7610,\n",
       "           0.6265]],\n",
       "\n",
       "        [[-1.5895, -0.2509, -0.8111, -1.0666,  1.0842, -0.4421,  0.1551,\n",
       "           0.1723],\n",
       "         [-1.3493,  0.4756, -0.6310, -0.4713,  1.7378,  1.1825, -0.6805,\n",
       "           0.4538],\n",
       "         [ 0.4057, -1.1077,  1.7339,  0.6974,  0.2882,  1.7540, -1.5324,\n",
       "          -0.2082]],\n",
       "\n",
       "        [[-1.4290, -0.4588, -1.8322, -1.2947,  0.8032, -0.8469,  0.5342,\n",
       "           1.5716],\n",
       "         [ 0.0607,  1.8053, -0.9686, -0.5624,  1.3176, -0.7678, -0.0159,\n",
       "           0.9955],\n",
       "         [ 0.9219,  1.1156, -1.1966,  0.2523,  0.4044,  0.6069, -0.7572,\n",
       "          -0.2591]]], grad_fn=<AddBackward0>)"
      ]
     },
     "execution_count": 27,
     "metadata": {},
     "output_type": "execute_result"
    }
   ],
   "source": [
    "out = layer_norm.forward(inputs)\n",
    "out "
   ]
  },
  {
   "cell_type": "code",
   "execution_count": null,
   "metadata": {},
   "outputs": [],
   "source": []
  }
 ],
 "metadata": {
  "kernelspec": {
   "display_name": "Python 3",
   "language": "python",
   "name": "python3"
  },
  "language_info": {
   "codemirror_mode": {
    "name": "ipython",
    "version": 3
   },
   "file_extension": ".py",
   "mimetype": "text/x-python",
   "name": "python",
   "nbconvert_exporter": "python",
   "pygments_lexer": "ipython3",
   "version": "3.9.6"
  },
  "orig_nbformat": 4
 },
 "nbformat": 4,
 "nbformat_minor": 2
}
