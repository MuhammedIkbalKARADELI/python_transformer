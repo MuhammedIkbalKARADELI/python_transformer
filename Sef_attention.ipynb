{
 "cells": [
  {
   "cell_type": "code",
   "execution_count": 4,
   "metadata": {},
   "outputs": [
    {
     "name": "stdout",
     "output_type": "stream",
     "text": [
      "(4, 8)\n",
      "(4, 8)\n",
      "(4, 8)\n"
     ]
    }
   ],
   "source": [
    "import numpy as np\n",
    "import math\n",
    "\n",
    "L ,d_k, d_v = 4, 8, 8\n",
    "\n",
    "q = np.random.randn(L,d_k)\n",
    "k = np.random.randn(L,d_k)\n",
    "v = np.random.randn(L,d_v)\n",
    "\n",
    "print(q.shape)\n",
    "print(k.shape)\n",
    "print(v.shape)\n"
   ]
  },
  {
   "cell_type": "code",
   "execution_count": 5,
   "metadata": {},
   "outputs": [
    {
     "name": "stdout",
     "output_type": "stream",
     "text": [
      "Q/n [[ 0.37018019  1.58820785  0.10841023  1.75872964 -0.78062602 -0.13276253\n",
      "  -0.48586673  1.26528191]\n",
      " [-0.06490368 -0.93170641  0.59197698  0.21619447  1.36746697  0.00781463\n",
      "  -1.47406886 -0.35656257]\n",
      " [-0.97915837  0.5465012   1.20577806 -0.03296482  0.11283723  1.60763748\n",
      "   1.22194233 -0.80513902]\n",
      " [ 2.5127741   0.28611076 -0.50603831  0.21274529  0.46184156  2.06385935\n",
      "   0.12069828 -0.01222992]]\n",
      "K/n [[ 2.40900181  0.03210469 -0.22234979 -1.1190993   0.2752563  -1.00672595\n",
      "  -1.57083551  0.24656526]\n",
      " [ 0.01027102 -1.07927802 -1.20315626 -0.5162842  -0.31412207  0.71764306\n",
      "  -0.48093523 -1.04747622]\n",
      " [-0.30842385 -1.03325731  0.72013653  0.53337223  1.31367327 -1.36281634\n",
      "   0.22279147  0.12454122]\n",
      " [-1.32716978 -1.4550734  -1.31387967 -0.34978562  1.4126511   0.97434849\n",
      "   0.31231876 -0.24241538]]\n",
      "V/n [[-1.19586669 -0.82343375  0.23527511 -0.18165579  0.92762998  0.03509224\n",
      "   0.75543657  0.06619457]\n",
      " [-0.60892549 -1.84701695  0.14457054  0.21850452 -0.19570522 -0.45026347\n",
      "  -0.39291474  2.63895847]\n",
      " [ 0.34148726 -0.16857966  0.84535402  1.02449102 -2.3058858   0.14225003\n",
      "   0.21809605  1.52672791]\n",
      " [ 0.64386936 -1.53729279 -0.10812419 -1.38276547 -0.50062794  1.40102366\n",
      "  -1.5438127  -0.57742663]]\n"
     ]
    }
   ],
   "source": [
    "print(\"Q/n\", q)\n",
    "print(\"K/n\", k)\n",
    "print(\"V/n\", v)"
   ]
  },
  {
   "attachments": {},
   "cell_type": "markdown",
   "metadata": {},
   "source": [
    "## Self attention"
   ]
  },
  {
   "cell_type": "code",
   "execution_count": 6,
   "metadata": {},
   "outputs": [
    {
     "data": {
      "text/plain": [
       "array([[-0.05556992, -3.69050099, -1.53429585, -5.25044555],\n",
       "       [ 2.03630621,  0.83952405,  2.93726488,  2.15385597],\n",
       "       [-6.27784354, -0.65964981, -1.28265629,  1.23420578],\n",
       "       [ 3.79366867,  1.50682403, -3.50215465, -0.45673152]])"
      ]
     },
     "execution_count": 6,
     "metadata": {},
     "output_type": "execute_result"
    }
   ],
   "source": [
    "np.matmul(q, k.T)"
   ]
  },
  {
   "cell_type": "code",
   "execution_count": 7,
   "metadata": {},
   "outputs": [
    {
     "data": {
      "text/plain": [
       "(0.8899243052098846, 0.8939430790771647, 8.100140263801912)"
      ]
     },
     "execution_count": 7,
     "metadata": {},
     "output_type": "execute_result"
    }
   ],
   "source": [
    "q.var(), k.var(), np.matmul(q,k.T).var()"
   ]
  },
  {
   "cell_type": "code",
   "execution_count": 8,
   "metadata": {},
   "outputs": [
    {
     "data": {
      "text/plain": [
       "(0.8899243052098846, 0.8939430790771647, 1.012517532975239)"
      ]
     },
     "execution_count": 8,
     "metadata": {},
     "output_type": "execute_result"
    }
   ],
   "source": [
    "scaled = np.matmul(q, k.T) / math.sqrt(d_k)\n",
    "q.var(), k.var(), scaled.var()"
   ]
  },
  {
   "attachments": {},
   "cell_type": "markdown",
   "metadata": {},
   "source": [
    "## Masking"
   ]
  },
  {
   "cell_type": "code",
   "execution_count": 9,
   "metadata": {},
   "outputs": [
    {
     "data": {
      "text/plain": [
       "array([[1., 0., 0., 0.],\n",
       "       [1., 1., 0., 0.],\n",
       "       [1., 1., 1., 0.],\n",
       "       [1., 1., 1., 1.]])"
      ]
     },
     "execution_count": 9,
     "metadata": {},
     "output_type": "execute_result"
    }
   ],
   "source": [
    "mask = np.tril(np.ones((L,L)))\n",
    "mask"
   ]
  },
  {
   "cell_type": "code",
   "execution_count": 10,
   "metadata": {},
   "outputs": [],
   "source": [
    "mask[mask==0] = -np.infty\n",
    "mask[mask==1] = 0"
   ]
  },
  {
   "cell_type": "code",
   "execution_count": 12,
   "metadata": {},
   "outputs": [
    {
     "data": {
      "text/plain": [
       "array([[  0., -inf, -inf, -inf],\n",
       "       [  0.,   0., -inf, -inf],\n",
       "       [  0.,   0.,   0., -inf],\n",
       "       [  0.,   0.,   0.,   0.]])"
      ]
     },
     "execution_count": 12,
     "metadata": {},
     "output_type": "execute_result"
    }
   ],
   "source": [
    "mask"
   ]
  },
  {
   "cell_type": "code",
   "execution_count": 13,
   "metadata": {},
   "outputs": [
    {
     "data": {
      "text/plain": [
       "array([[-0.01964693,        -inf,        -inf,        -inf],\n",
       "       [ 0.71994297,  0.29681657,        -inf,        -inf],\n",
       "       [-2.21955287, -0.23322143, -0.45348748,        -inf],\n",
       "       [ 1.34126442,  0.53274275, -1.23819865, -0.16147898]])"
      ]
     },
     "execution_count": 13,
     "metadata": {},
     "output_type": "execute_result"
    }
   ],
   "source": [
    "scaled + mask"
   ]
  },
  {
   "attachments": {},
   "cell_type": "markdown",
   "metadata": {},
   "source": [
    "## Softmax"
   ]
  },
  {
   "cell_type": "code",
   "execution_count": 14,
   "metadata": {},
   "outputs": [],
   "source": [
    "def softmax(x):\n",
    "    return (np.exp(x).T / np.sum(np.exp(x), axis=-1)).T"
   ]
  },
  {
   "cell_type": "code",
   "execution_count": 18,
   "metadata": {},
   "outputs": [],
   "source": [
    "attention = softmax(scaled + mask)"
   ]
  },
  {
   "cell_type": "code",
   "execution_count": 19,
   "metadata": {},
   "outputs": [
    {
     "data": {
      "text/plain": [
       "array([[1.        , 0.        , 0.        , 0.        ],\n",
       "       [0.60423113, 0.39576887, 0.        , 0.        ],\n",
       "       [0.07073864, 0.51559597, 0.41366539, 0.        ],\n",
       "       [0.57344389, 0.25547854, 0.04347548, 0.12760208]])"
      ]
     },
     "execution_count": 19,
     "metadata": {},
     "output_type": "execute_result"
    }
   ],
   "source": [
    "attention"
   ]
  },
  {
   "cell_type": "code",
   "execution_count": 21,
   "metadata": {},
   "outputs": [
    {
     "data": {
      "text/plain": [
       "array([[-1.19586669, -0.82343375,  0.23527511, -0.18165579,  0.92762998,\n",
       "         0.03509224,  0.75543657,  0.06619457],\n",
       "       [-0.96357363, -1.22853612,  0.19937706, -0.0232848 ,  0.48304887,\n",
       "        -0.15699644,  0.30095486,  1.08441444],\n",
       "       [-0.25729206, -1.08029866,  0.44087673,  0.52360644, -0.98915067,\n",
       "        -0.17082774, -0.05892791,  1.99687336],\n",
       "       [-0.74432445, -1.14755711,  0.19480704, -0.18024971,  0.31781461,\n",
       "         0.0900487 ,  0.14530731,  0.70485052]])"
      ]
     },
     "execution_count": 21,
     "metadata": {},
     "output_type": "execute_result"
    }
   ],
   "source": [
    "new_v = np.matmul(attention, v)\n",
    "new_v  # attentioned v"
   ]
  },
  {
   "cell_type": "code",
   "execution_count": 23,
   "metadata": {},
   "outputs": [
    {
     "data": {
      "text/plain": [
       "array([[-1.19586669, -0.82343375,  0.23527511, -0.18165579,  0.92762998,\n",
       "         0.03509224,  0.75543657,  0.06619457],\n",
       "       [-0.60892549, -1.84701695,  0.14457054,  0.21850452, -0.19570522,\n",
       "        -0.45026347, -0.39291474,  2.63895847],\n",
       "       [ 0.34148726, -0.16857966,  0.84535402,  1.02449102, -2.3058858 ,\n",
       "         0.14225003,  0.21809605,  1.52672791],\n",
       "       [ 0.64386936, -1.53729279, -0.10812419, -1.38276547, -0.50062794,\n",
       "         1.40102366, -1.5438127 , -0.57742663]])"
      ]
     },
     "execution_count": 23,
     "metadata": {},
     "output_type": "execute_result"
    }
   ],
   "source": [
    "v  #normal v"
   ]
  },
  {
   "cell_type": "code",
   "execution_count": 25,
   "metadata": {},
   "outputs": [],
   "source": [
    "def scaled_dot_product_attention(q,k,v,mask=None):\n",
    "    d_k = q.shape[-1]\n",
    "    scaled = np.matmul(q,k.T) / math.sqrt(d_k)\n",
    "\n",
    "    if mask is not None:\n",
    "        scaled = scaled + mask\n",
    "    \n",
    "    attention = softmax(scaled)\n",
    "    out = np.matmul(attention, v)\n",
    "\n",
    "    return out , attention\n",
    "    "
   ]
  },
  {
   "cell_type": "code",
   "execution_count": 26,
   "metadata": {},
   "outputs": [],
   "source": [
    "values , attention = scaled_dot_product_attention(q,k,v,mask=None)\n",
    "print(\"Q/n\", q)\n",
    "print(\"K/n\", k)\n",
    "print(\"New V/n\", values)\n",
    "print(\"Attention/n\", attention)"
   ]
  },
  {
   "cell_type": "code",
   "execution_count": null,
   "metadata": {},
   "outputs": [],
   "source": []
  }
 ],
 "metadata": {
  "kernelspec": {
   "display_name": "Python 3",
   "language": "python",
   "name": "python3"
  },
  "language_info": {
   "codemirror_mode": {
    "name": "ipython",
    "version": 3
   },
   "file_extension": ".py",
   "mimetype": "text/x-python",
   "name": "python",
   "nbconvert_exporter": "python",
   "pygments_lexer": "ipython3",
   "version": "3.10.2"
  },
  "orig_nbformat": 4,
  "vscode": {
   "interpreter": {
    "hash": "afb734500600fd355917ca529030176ea0ca205570884b88f2f6f7d791fd3fbe"
   }
  }
 },
 "nbformat": 4,
 "nbformat_minor": 2
}
