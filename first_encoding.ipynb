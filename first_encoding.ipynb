{
 "cells": [
  {
   "cell_type": "code",
   "execution_count": 4,
   "metadata": {},
   "outputs": [],
   "source": [
    "import pandas as pd\n",
    "import numpy as np\n",
    "import torch\n",
    "import torch.nn as nn\n",
    "import matplotlib.pyplot as plt"
   ]
  },
  {
   "cell_type": "code",
   "execution_count": 7,
   "metadata": {},
   "outputs": [],
   "source": [
    "df = pd.read_csv(\"Artifact.csv\",header=None)"
   ]
  },
  {
   "cell_type": "code",
   "execution_count": 10,
   "metadata": {},
   "outputs": [
    {
     "data": {
      "text/html": [
       "<div>\n",
       "<style scoped>\n",
       "    .dataframe tbody tr th:only-of-type {\n",
       "        vertical-align: middle;\n",
       "    }\n",
       "\n",
       "    .dataframe tbody tr th {\n",
       "        vertical-align: top;\n",
       "    }\n",
       "\n",
       "    .dataframe thead th {\n",
       "        text-align: right;\n",
       "    }\n",
       "</style>\n",
       "<table border=\"1\" class=\"dataframe\">\n",
       "  <thead>\n",
       "    <tr style=\"text-align: right;\">\n",
       "      <th></th>\n",
       "      <th>0</th>\n",
       "      <th>1</th>\n",
       "      <th>2</th>\n",
       "      <th>3</th>\n",
       "      <th>4</th>\n",
       "      <th>5</th>\n",
       "      <th>6</th>\n",
       "      <th>7</th>\n",
       "      <th>8</th>\n",
       "      <th>9</th>\n",
       "      <th>...</th>\n",
       "      <th>17564</th>\n",
       "      <th>17565</th>\n",
       "      <th>17566</th>\n",
       "      <th>17567</th>\n",
       "      <th>17568</th>\n",
       "      <th>17569</th>\n",
       "      <th>17570</th>\n",
       "      <th>17571</th>\n",
       "      <th>17572</th>\n",
       "      <th>17573</th>\n",
       "    </tr>\n",
       "  </thead>\n",
       "  <tbody>\n",
       "    <tr>\n",
       "      <th>0</th>\n",
       "      <td>-96.150566</td>\n",
       "      <td>8.816941</td>\n",
       "      <td>-152.589413</td>\n",
       "      <td>-71.3259</td>\n",
       "      <td>278.3711</td>\n",
       "      <td>-57.014347</td>\n",
       "      <td>-195.621513</td>\n",
       "      <td>-2.767336</td>\n",
       "      <td>202.951589</td>\n",
       "      <td>158.979607</td>\n",
       "      <td>...</td>\n",
       "      <td>81.180393</td>\n",
       "      <td>-7.635005</td>\n",
       "      <td>-39.453661</td>\n",
       "      <td>-50.905131</td>\n",
       "      <td>-10.033863</td>\n",
       "      <td>126.072157</td>\n",
       "      <td>197.501277</td>\n",
       "      <td>-31.980907</td>\n",
       "      <td>-245.71501</td>\n",
       "      <td>1.78059</td>\n",
       "    </tr>\n",
       "  </tbody>\n",
       "</table>\n",
       "<p>1 rows × 17574 columns</p>\n",
       "</div>"
      ],
      "text/plain": [
       "       0         1           2        3         4          5           6      \\\n",
       "0 -96.150566  8.816941 -152.589413 -71.3259  278.3711 -57.014347 -195.621513   \n",
       "\n",
       "      7           8           9      ...      17564     17565      17566  \\\n",
       "0 -2.767336  202.951589  158.979607  ...  81.180393 -7.635005 -39.453661   \n",
       "\n",
       "       17567      17568       17569       17570      17571      17572    17573  \n",
       "0 -50.905131 -10.033863  126.072157  197.501277 -31.980907 -245.71501  1.78059  \n",
       "\n",
       "[1 rows x 17574 columns]"
      ]
     },
     "execution_count": 10,
     "metadata": {},
     "output_type": "execute_result"
    }
   ],
   "source": [
    "df.head()\n"
   ]
  },
  {
   "cell_type": "code",
   "execution_count": 14,
   "metadata": {},
   "outputs": [
    {
     "name": "stdout",
     "output_type": "stream",
     "text": [
      "<class 'pandas.core.series.Series'>\n",
      "(17574,)\n"
     ]
    }
   ],
   "source": [
    "series = df.iloc[0]\n",
    "print(type(series))\n",
    "print(series.shape)"
   ]
  },
  {
   "cell_type": "code",
   "execution_count": 15,
   "metadata": {},
   "outputs": [],
   "source": [
    "torch1 = torch.tensor(series)"
   ]
  },
  {
   "cell_type": "code",
   "execution_count": 16,
   "metadata": {},
   "outputs": [
    {
     "data": {
      "text/plain": [
       "torch.Size([17574])"
      ]
     },
     "execution_count": 16,
     "metadata": {},
     "output_type": "execute_result"
    }
   ],
   "source": [
    "torch1.shape"
   ]
  },
  {
   "cell_type": "code",
   "execution_count": 17,
   "metadata": {},
   "outputs": [
    {
     "ename": "RuntimeError",
     "evalue": "shape '[32, 16, 512]' is invalid for input of size 17574",
     "output_type": "error",
     "traceback": [
      "\u001b[0;31m---------------------------------------------------------------------------\u001b[0m",
      "\u001b[0;31mRuntimeError\u001b[0m                              Traceback (most recent call last)",
      "Cell \u001b[0;32mIn[17], line 1\u001b[0m\n\u001b[0;32m----> 1\u001b[0m torch1 \u001b[39m=\u001b[39m torch1\u001b[39m.\u001b[39;49mreshape(\u001b[39m32\u001b[39;49m,\u001b[39m16\u001b[39;49m,\u001b[39m512\u001b[39;49m)\n",
      "\u001b[0;31mRuntimeError\u001b[0m: shape '[32, 16, 512]' is invalid for input of size 17574"
     ]
    }
   ],
   "source": []
  },
  {
   "cell_type": "code",
   "execution_count": null,
   "metadata": {},
   "outputs": [],
   "source": []
  }
 ],
 "metadata": {
  "kernelspec": {
   "display_name": "Python 3",
   "language": "python",
   "name": "python3"
  },
  "language_info": {
   "codemirror_mode": {
    "name": "ipython",
    "version": 3
   },
   "file_extension": ".py",
   "mimetype": "text/x-python",
   "name": "python",
   "nbconvert_exporter": "python",
   "pygments_lexer": "ipython3",
   "version": "3.9.6"
  },
  "orig_nbformat": 4
 },
 "nbformat": 4,
 "nbformat_minor": 2
}
